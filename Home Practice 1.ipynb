{
 "cells": [
  {
   "cell_type": "code",
   "execution_count": 1,
   "metadata": {},
   "outputs": [
    {
     "name": "stdout",
     "output_type": "stream",
     "text": [
      "My name is Rajath Kumar M.P.\n",
      "\n",
      "I love Python.\n"
     ]
    }
   ],
   "source": [
    "print \"\"\"My name is Rajath Kumar M.P.\n",
    "\n",
    "I love Python.\"\"\""
   ]
  },
  {
   "cell_type": "code",
   "execution_count": 6,
   "metadata": {},
   "outputs": [
    {
     "name": "stdout",
     "output_type": "stream",
     "text": [
      "Hello I am living \n",
      "Hello I am living  in Thunder bay\n",
      "Hello I am living  in Thunder bay Ontario, Canada.\n",
      "Hello I am living  in Thunder bay Ontario, Canada.  In thunder bay Lake superior is 2nd largest frest water in all our the world.\n"
     ]
    }
   ],
   "source": [
    "string1 = 'I am living '\n",
    "print 'Hello', string1\n",
    "\n",
    "string2 = 'in Thunder bay'\n",
    "print 'Hello', string1, string2\n",
    "\n",
    "string3='Ontario, Canada.'\n",
    "print'Hello', string1, string2, string3\n",
    "\n",
    "string4=' In thunder bay Lake superior is 2nd largest frest water in all our the world.' \n",
    "print'Hello',string1, string2, string3, string4"
   ]
  }
 ],
 "metadata": {
  "kernelspec": {
   "display_name": "Python 2",
   "language": "python",
   "name": "python2"
  },
  "language_info": {
   "codemirror_mode": {
    "name": "ipython",
    "version": 2
   },
   "file_extension": ".py",
   "mimetype": "text/x-python",
   "name": "python",
   "nbconvert_exporter": "python",
   "pygments_lexer": "ipython2",
   "version": "2.7.13"
  }
 },
 "nbformat": 4,
 "nbformat_minor": 2
}
